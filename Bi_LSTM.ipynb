{
  "nbformat": 4,
  "nbformat_minor": 0,
  "metadata": {
    "colab": {
      "name": "Bi-LSTM.ipynb",
      "provenance": [],
      "authorship_tag": "ABX9TyMzXsWRXQV5anzAEIc3I4Y2"
    },
    "kernelspec": {
      "name": "python3",
      "display_name": "Python 3"
    },
    "language_info": {
      "name": "python"
    }
  },
  "cells": [
    {
      "cell_type": "code",
      "execution_count": 1,
      "metadata": {
        "id": "IwNDe0sDP2P9"
      },
      "outputs": [],
      "source": [
        "import numpy as np\n",
        "import torch\n",
        "import torch.nn as nn\n",
        "import torch.optim as optim"
      ]
    },
    {
      "cell_type": "code",
      "source": [
        "def make_batch():\n",
        "    input_batch = []\n",
        "    target_batch = []\n",
        "\n",
        "    words = sentence.split()\n",
        "    for i, word in enumerate(words[:-1]):\n",
        "        input = [word_dict[n] for n in words[:(i + 1)]]\n",
        "        input = input + [0] * (max_len - len(input))\n",
        "        target = word_dict[words[i + 1]]\n",
        "        input_batch.append(np.eye(n_class)[input])\n",
        "        target_batch.append(target)\n",
        "\n",
        "    return input_batch, target_batch"
      ],
      "metadata": {
        "id": "4D9wf3tkP8QA"
      },
      "execution_count": 2,
      "outputs": []
    },
    {
      "cell_type": "code",
      "source": [
        "class BiLSTM(nn.Module):\n",
        "    def __init__(self):\n",
        "        super(BiLSTM, self).__init__()\n",
        "\n",
        "        self.lstm = nn.LSTM(input_size=n_class, hidden_size=n_hidden, bidirectional=True)\n",
        "        self.W = nn.Linear(n_hidden * 2, n_class, bias=False)\n",
        "        self.b = nn.Parameter(torch.ones([n_class]))\n",
        "\n",
        "    def forward(self, X):\n",
        "        input = X.transpose(0, 1)  # input : [n_step, batch_size, n_class]\n",
        "\n",
        "        hidden_state = torch.zeros(1*2, len(X), n_hidden)   # [num_layers(=1) * num_directions(=2), batch_size, n_hidden]\n",
        "        cell_state = torch.zeros(1*2, len(X), n_hidden)     # [num_layers(=1) * num_directions(=2), batch_size, n_hidden]\n",
        "\n",
        "        outputs, (_, _) = self.lstm(input, (hidden_state, cell_state))\n",
        "        outputs = outputs[-1]  # [batch_size, n_hidden]\n",
        "        model = self.W(outputs) + self.b  # model : [batch_size, n_class]\n",
        "        return model"
      ],
      "metadata": {
        "id": "1FmnonTsP8Eq"
      },
      "execution_count": 3,
      "outputs": []
    },
    {
      "cell_type": "code",
      "source": [
        "if __name__ == '__main__':\n",
        "    n_hidden = 5 # number of hidden units in one cell\n",
        "\n",
        "    sentence = (\n",
        "        'Lorem ipsum dolor sit amet consectetur adipisicing elit '\n",
        "        'sed do eiusmod tempor incididunt ut labore et dolore magna '\n",
        "        'aliqua Ut enim ad minim veniam quis nostrud exercitation'\n",
        "    )\n",
        "\n",
        "    word_dict = {w: i for i, w in enumerate(list(set(sentence.split())))}\n",
        "    number_dict = {i: w for i, w in enumerate(list(set(sentence.split())))}\n",
        "    n_class = len(word_dict)\n",
        "    max_len = len(sentence.split())\n",
        "\n",
        "    model = BiLSTM()\n",
        "\n",
        "    criterion = nn.CrossEntropyLoss()\n",
        "    optimizer = optim.Adam(model.parameters(), lr=0.001)\n",
        "\n",
        "    input_batch, target_batch = make_batch()\n",
        "    input_batch = torch.FloatTensor(input_batch)\n",
        "    target_batch = torch.LongTensor(target_batch)\n",
        "\n",
        "    # Training\n",
        "    for epoch in range(10000):\n",
        "        optimizer.zero_grad()\n",
        "        output = model(input_batch)\n",
        "        loss = criterion(output, target_batch)\n",
        "        if (epoch + 1) % 1000 == 0:\n",
        "            print('Epoch:', '%04d' % (epoch + 1), 'cost =', '{:.6f}'.format(loss))\n",
        "\n",
        "        loss.backward()\n",
        "        optimizer.step()\n",
        "\n",
        "    predict = model(input_batch).data.max(1, keepdim=True)[1]\n",
        "    print(sentence)\n",
        "    print([number_dict[n.item()] for n in predict.squeeze()])"
      ],
      "metadata": {
        "colab": {
          "base_uri": "https://localhost:8080/"
        },
        "id": "uom2xpHZP8CJ",
        "outputId": "66d41957-9eaa-421d-9b5b-88b35d33a15b"
      },
      "execution_count": 4,
      "outputs": [
        {
          "output_type": "stream",
          "name": "stderr",
          "text": [
            "/usr/local/lib/python3.7/dist-packages/ipykernel_launcher.py:21: UserWarning: Creating a tensor from a list of numpy.ndarrays is extremely slow. Please consider converting the list to a single numpy.ndarray with numpy.array() before converting to a tensor. (Triggered internally at  ../torch/csrc/utils/tensor_new.cpp:210.)\n"
          ]
        },
        {
          "output_type": "stream",
          "name": "stdout",
          "text": [
            "Epoch: 1000 cost = 2.119220\n",
            "Epoch: 2000 cost = 1.698555\n",
            "Epoch: 3000 cost = 1.492541\n",
            "Epoch: 4000 cost = 1.410519\n",
            "Epoch: 5000 cost = 1.368865\n",
            "Epoch: 6000 cost = 1.348639\n",
            "Epoch: 7000 cost = 1.562095\n",
            "Epoch: 8000 cost = 1.482621\n",
            "Epoch: 9000 cost = 1.480499\n",
            "Epoch: 10000 cost = 1.478863\n",
            "Lorem ipsum dolor sit amet consectetur adipisicing elit sed do eiusmod tempor incididunt ut labore et dolore magna aliqua Ut enim ad minim veniam quis nostrud exercitation\n",
            "['amet', 'amet', 'amet', 'amet', 'amet', 'amet', 'amet', 'amet', 'amet', 'amet', 'amet', 'amet', 'amet', 'ipsum', 'et', 'dolore', 'magna', 'aliqua', 'Ut', 'enim', 'ad', 'minim', 'veniam', 'quis', 'nostrud', 'exercitation']\n"
          ]
        }
      ]
    }
  ]
}